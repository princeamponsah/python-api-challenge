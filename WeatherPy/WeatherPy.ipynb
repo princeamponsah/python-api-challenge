{
 "cells": [
  {
   "cell_type": "markdown",
   "metadata": {},
   "source": [
    "# WeatherPy\n",
    "----\n",
    "\n",
    "#### Note\n",
    "* Instructions have been included for each segment. You do not have to follow them exactly, but they are included to help you think through the steps."
   ]
  },
  {
   "cell_type": "code",
   "execution_count": 1,
   "metadata": {
    "scrolled": true
   },
   "outputs": [],
   "source": [
    "# Dependencies and Setup\n",
    "import matplotlib.pyplot as plt\n",
    "import pandas as pd\n",
    "import numpy as np\n",
    "import requests\n",
    "import time\n",
    "from scipy.stats import linregress\n",
    "\n",
    "\n",
    "# Import API key\n",
    "from config_Prince import api_key\n",
    "\n",
    "# Incorporated citipy to determine city based on latitude and longitude\n",
    "from citipy import citipy\n",
    "\n",
    "# Output File (CSV)\n",
    "output_data_file = \"output_data/cities.csv\"\n",
    "\n",
    "# Range of latitudes and longitudes\n",
    "lat_range = (-90, 90)\n",
    "lng_range = (-180, 180)"
   ]
  },
  {
   "cell_type": "markdown",
   "metadata": {},
   "source": [
    "## Generate Cities List"
   ]
  },
  {
   "cell_type": "code",
   "execution_count": 2,
   "metadata": {},
   "outputs": [],
   "source": [
    "# List for holding lat_lngs and cities\n",
    "lat_lngs = []\n",
    "cities = []\n",
    "\n",
    "# Create a set of random lat and lng combinations\n",
    "lats = np.random.uniform(lat_range[0], lat_range[1], size=1500)\n",
    "lngs = np.random.uniform(lng_range[0], lng_range[1], size=1500)\n",
    "lat_lngs = zip(lats, lngs)\n",
    "\n",
    "# Identify nearest city for each lat, lng combination\n",
    "for lat_lng in lat_lngs:\n",
    "    city = citipy.nearest_city(lat_lng[0], lat_lng[1]).city_name\n",
    "    \n",
    "    # If the city is unique, then add it to a our cities list\n",
    "    if city not in cities:\n",
    "        cities.append(city)\n",
    "\n",
    "# testing to see if city names loop worked. \n",
    "# cit_name = pd.DataFrame(cities)\n",
    "# cit_name.head()"
   ]
  },
  {
   "cell_type": "markdown",
   "metadata": {},
   "source": [
    "### Perform API Calls\n",
    "* Perform a weather check on each city using a series of successive API calls.\n",
    "* Include a print log of each city as it'sbeing processed (with the city number and city name).\n"
   ]
  },
  {
   "cell_type": "code",
   "execution_count": 3,
   "metadata": {
    "scrolled": true
   },
   "outputs": [],
   "source": [
    "# creating empty lists to hold values from for loop with the try/except \n",
    "Max_Temp = []\n",
    "Humidity = []\n",
    "Cloudiness = []\n",
    "Wind_Speed = []\n",
    "Country = []\n",
    "Date = []\n",
    "lat = []\n",
    "long = []\n",
    "cit_name = []"
   ]
  },
  {
   "cell_type": "code",
   "execution_count": 4,
   "metadata": {
    "collapsed": true,
    "jupyter": {
     "outputs_hidden": true
    }
   },
   "outputs": [
    {
     "name": "stdout",
     "output_type": "stream",
     "text": [
      "Processing... City Name is: hermanus\n",
      "Processing... City Name is: albany\n",
      "Processing... City Name is: ponta do sol\n",
      "Processing... City Name is: yellowknife\n",
      "Processing... City Name is: airai\n",
      "Processing... City Name is: haapiti\n",
      "Processing... City Name is: punta arenas\n",
      "Processing... City Name is: nikolskoye\n",
      "Processing... City Name is: bangangte\n",
      "Processing... City Name is: adrar\n",
      "Processing... City Name is: butaritari\n",
      "Processing... City Name is: provideniya\n",
      "Processing... City Name is: bredasdorp\n",
      "Processing... City Name is: moerai\n",
      "Processing... City Name is: hobart\n",
      "Processing... City Name is: port alfred\n",
      "Processing... City Name is: sao filipe\n",
      "Processing... City Name is: hilo\n",
      "Processing... City Name is: kapaa\n",
      "Processing... City Name is: tuatapere\n",
      "Processing... City Name is: port elizabeth\n",
      "Processing... City Name is: tuktoyaktuk\n",
      "Processing... City Name is: traralgon\n",
      "Processing... City Name is: new norfolk\n",
      "Processing... City Name is: avarua\n",
      "Processing... City Name is: cabanas\n",
      "Processing... City Name is: victoria\n",
      "Processing... City Name is: tiznit\n",
      "Processing... City Name is: smidovich\n",
      "Processing... City Name is: salinopolis\n",
      "Processing... City Name is: saint-philippe\n",
      "Processing... City Name is: karratha\n",
      "Processing... City Name is: ulladulla\n",
      "Processing... City Name is: bluff\n",
      "Processing... City Name is: east london\n",
      "City not found... Skipping\n",
      "Processing... City Name is: bambous virieux\n",
      "Processing... City Name is: chapais\n",
      "Processing... City Name is: bara\n",
      "Processing... City Name is: torbay\n",
      "Processing... City Name is: ostrovnoy\n",
      "Processing... City Name is: daru\n",
      "Processing... City Name is: upernavik\n",
      "Processing... City Name is: arlit\n",
      "Processing... City Name is: geraldton\n",
      "Processing... City Name is: cupar\n",
      "Processing... City Name is: ravar\n",
      "Processing... City Name is: axim\n",
      "Processing... City Name is: ushuaia\n",
      "Processing... City Name is: rikitea\n",
      "Processing... City Name is: hamilton\n",
      "Processing... City Name is: havoysund\n",
      "Processing... City Name is: busselton\n",
      "Processing... City Name is: bengkulu\n",
      "Processing... City Name is: hithadhoo\n",
      "Processing... City Name is: oceanside\n",
      "Processing... City Name is: qaanaaq\n",
      "Processing... City Name is: prince george\n",
      "Processing... City Name is: santa maria\n",
      "City not found... Skipping\n",
      "Processing... City Name is: mutoko\n",
      "Processing... City Name is: mataura\n",
      "Processing... City Name is: palmer\n",
      "Processing... City Name is: northam\n",
      "City not found... Skipping\n",
      "Processing... City Name is: arraial do cabo\n",
      "Processing... City Name is: sehithwa\n",
      "Processing... City Name is: wahlern\n",
      "Processing... City Name is: onega\n",
      "Processing... City Name is: norman wells\n",
      "Processing... City Name is: sumbe\n",
      "Processing... City Name is: miandrivazo\n",
      "Processing... City Name is: gulu\n",
      "Processing... City Name is: troitsko-pechorsk\n",
      "City not found... Skipping\n",
      "Processing... City Name is: barrow\n",
      "Processing... City Name is: mahebourg\n",
      "Processing... City Name is: tarko-sale\n",
      "City not found... Skipping\n",
      "Processing... City Name is: tukrah\n",
      "Processing... City Name is: buin\n",
      "City not found... Skipping\n",
      "City not found... Skipping\n",
      "Processing... City Name is: tanete\n",
      "Processing... City Name is: sorland\n",
      "Processing... City Name is: lebu\n",
      "City not found... Skipping\n",
      "Processing... City Name is: astoria\n",
      "Processing... City Name is: ahipara\n",
      "Processing... City Name is: svetlyy\n",
      "Processing... City Name is: pine bluff\n",
      "Processing... City Name is: harper\n",
      "Processing... City Name is: kibaya\n",
      "City not found... Skipping\n",
      "Processing... City Name is: chokurdakh\n",
      "Processing... City Name is: haines junction\n",
      "City not found... Skipping\n",
      "Processing... City Name is: sinnamary\n",
      "Processing... City Name is: marystown\n",
      "Processing... City Name is: nunchia\n",
      "Processing... City Name is: vaini\n",
      "Processing... City Name is: jinji\n",
      "Processing... City Name is: puerto ayora\n",
      "Processing... City Name is: thompson\n",
      "City not found... Skipping\n",
      "Processing... City Name is: los llanos de aridane\n",
      "Processing... City Name is: klaksvik\n",
      "Processing... City Name is: jizan\n",
      "Processing... City Name is: thinadhoo\n",
      "Processing... City Name is: cidreira\n",
      "Processing... City Name is: paamiut\n",
      "Processing... City Name is: miri\n",
      "Processing... City Name is: georgetown\n",
      "Processing... City Name is: ulaangom\n",
      "Processing... City Name is: betioky\n",
      "Processing... City Name is: burnie\n",
      "Processing... City Name is: iqaluit\n",
      "Processing... City Name is: abay\n",
      "Processing... City Name is: zyryanka\n",
      "Processing... City Name is: boa vista\n",
      "Processing... City Name is: dire\n",
      "Processing... City Name is: umm lajj\n",
      "City not found... Skipping\n",
      "Processing... City Name is: yunhe\n",
      "Processing... City Name is: saint anthony\n",
      "Processing... City Name is: port hawkesbury\n",
      "Processing... City Name is: moroni\n",
      "Processing... City Name is: caravelas\n",
      "Processing... City Name is: oxbow\n",
      "Processing... City Name is: lovozero\n",
      "Processing... City Name is: meulaboh\n",
      "Processing... City Name is: khatanga\n",
      "Processing... City Name is: padang\n",
      "Processing... City Name is: severo-kurilsk\n",
      "Processing... City Name is: honningsvag\n",
      "City not found... Skipping\n",
      "Processing... City Name is: mount gambier\n",
      "Processing... City Name is: dubuque\n",
      "Processing... City Name is: clyde river\n",
      "Processing... City Name is: hendrina\n",
      "Processing... City Name is: grand gaube\n",
      "Processing... City Name is: bethel\n",
      "Processing... City Name is: san policarpo\n",
      "Processing... City Name is: carnarvon\n",
      "Processing... City Name is: pisco\n",
      "Processing... City Name is: raton\n",
      "City not found... Skipping\n",
      "Processing... City Name is: turukhansk\n",
      "Processing... City Name is: atuona\n",
      "City not found... Skipping\n",
      "Processing... City Name is: katsuura\n",
      "Processing... City Name is: dolores\n",
      "City not found... Skipping\n",
      "Processing... City Name is: beloha\n",
      "Processing... City Name is: mar del plata\n",
      "Processing... City Name is: lavrentiya\n",
      "Processing... City Name is: komsomolskiy\n",
      "Processing... City Name is: college\n",
      "Processing... City Name is: la ronge\n",
      "Processing... City Name is: ballina\n",
      "Processing... City Name is: san carlos de bariloche\n",
      "Processing... City Name is: tasiilaq\n",
      "Processing... City Name is: biak\n",
      "Processing... City Name is: lethem\n",
      "Processing... City Name is: corinto\n",
      "Processing... City Name is: lompoc\n",
      "Processing... City Name is: lagoa\n",
      "Processing... City Name is: lata\n",
      "Processing... City Name is: kamenka\n",
      "Processing... City Name is: evensk\n",
      "Processing... City Name is: cruz das almas\n",
      "Processing... City Name is: mareeba\n",
      "Processing... City Name is: san vicente\n",
      "Processing... City Name is: saint-pierre\n",
      "Processing... City Name is: jamestown\n",
      "Processing... City Name is: mongar\n",
      "Processing... City Name is: pokhara\n",
      "Processing... City Name is: margate\n",
      "Processing... City Name is: isangel\n",
      "Processing... City Name is: unirea\n",
      "Processing... City Name is: narsaq\n",
      "Processing... City Name is: alyangula\n",
      "Processing... City Name is: ust-nera\n",
      "Processing... City Name is: houma\n",
      "Processing... City Name is: oudtshoorn\n",
      "Processing... City Name is: vila velha\n",
      "Processing... City Name is: ornskoldsvik\n",
      "Processing... City Name is: lasa\n",
      "Processing... City Name is: pevek\n",
      "Processing... City Name is: caconda\n",
      "Processing... City Name is: santa isabel\n",
      "Processing... City Name is: puerto maldonado\n",
      "Processing... City Name is: grafton\n",
      "Processing... City Name is: boulder city\n",
      "Processing... City Name is: fortuna\n",
      "Processing... City Name is: longyearbyen\n",
      "Processing... City Name is: dikson\n",
      "Processing... City Name is: okhotsk\n",
      "Processing... City Name is: grand-lahou\n",
      "Processing... City Name is: alora\n",
      "Processing... City Name is: kharp\n",
      "Processing... City Name is: swellendam\n",
      "Processing... City Name is: bennington\n",
      "Processing... City Name is: cape town\n",
      "Processing... City Name is: tabuk\n",
      "Processing... City Name is: salalah\n",
      "Processing... City Name is: wajid\n",
      "Processing... City Name is: yulara\n",
      "City not found... Skipping\n",
      "Processing... City Name is: surab\n",
      "Processing... City Name is: kavaratti\n",
      "Processing... City Name is: yumbe\n",
      "Processing... City Name is: cherskiy\n",
      "Processing... City Name is: coquimbo\n",
      "Processing... City Name is: harnosand\n",
      "Processing... City Name is: inhambane\n",
      "Processing... City Name is: mayumba\n",
      "Processing... City Name is: manokwari\n",
      "Processing... City Name is: deer lake\n",
      "Processing... City Name is: morristown\n",
      "Processing... City Name is: trairi\n",
      "Processing... City Name is: viedma\n",
      "Processing... City Name is: richards bay\n",
      "Processing... City Name is: gambiran\n",
      "Processing... City Name is: liverpool\n",
      "Processing... City Name is: matucana\n",
      "Processing... City Name is: batemans bay\n",
      "Processing... City Name is: nizhniy odes\n",
      "Processing... City Name is: niquelandia\n",
      "Processing... City Name is: fiumicino\n",
      "Processing... City Name is: ternate\n",
      "Processing... City Name is: vestmannaeyjar\n",
      "Processing... City Name is: souillac\n",
      "Processing... City Name is: klyuchi\n",
      "Processing... City Name is: imeni poliny osipenko\n",
      "Processing... City Name is: bure\n",
      "Processing... City Name is: aguimes\n",
      "Processing... City Name is: nanortalik\n",
      "Processing... City Name is: castro\n",
      "Processing... City Name is: camacha\n",
      "Processing... City Name is: muros\n",
      "Processing... City Name is: hirara\n",
      "Processing... City Name is: saldanha\n",
      "Processing... City Name is: alta floresta\n",
      "Processing... City Name is: bandarbeyla\n",
      "Processing... City Name is: alofi\n",
      "Processing... City Name is: hereford\n",
      "Processing... City Name is: dukat\n",
      "Processing... City Name is: vao\n",
      "Processing... City Name is: moron\n",
      "Processing... City Name is: khandyga\n",
      "Processing... City Name is: faya\n",
      "Processing... City Name is: tandalti\n",
      "Processing... City Name is: camargo\n",
      "Processing... City Name is: beringovskiy\n",
      "Processing... City Name is: namibe\n",
      "Processing... City Name is: obo\n",
      "Processing... City Name is: robertsport\n",
      "Processing... City Name is: marathon\n",
      "Processing... City Name is: vardo\n",
      "Processing... City Name is: kirakira\n",
      "Processing... City Name is: zhangye\n",
      "Processing... City Name is: katherine\n",
      "Processing... City Name is: ilulissat\n",
      "Processing... City Name is: sobolevo\n",
      "Processing... City Name is: boone\n",
      "Processing... City Name is: rocha\n",
      "City not found... Skipping\n",
      "Processing... City Name is: leningradskiy\n",
      "Processing... City Name is: ancud\n",
      "Processing... City Name is: grindavik\n",
      "Processing... City Name is: mana\n",
      "Processing... City Name is: acapulco\n",
      "Processing... City Name is: nelson bay\n",
      "Processing... City Name is: okha\n",
      "Processing... City Name is: nuevo progreso\n",
      "Processing... City Name is: henties bay\n",
      "City not found... Skipping\n",
      "Processing... City Name is: khorixas\n",
      "Processing... City Name is: tabas\n",
      "Processing... City Name is: kodiak\n",
      "Processing... City Name is: lorengau\n",
      "Processing... City Name is: faanui\n",
      "Processing... City Name is: bikaner\n",
      "Processing... City Name is: lesosibirsk\n",
      "Processing... City Name is: betare oya\n",
      "City not found... Skipping\n",
      "Processing... City Name is: santa isabel do rio negro\n",
      "Processing... City Name is: tomatlan\n",
      "Processing... City Name is: eyl\n",
      "Processing... City Name is: plouzane\n",
      "Processing... City Name is: fare\n",
      "Processing... City Name is: zhanaozen\n",
      "Processing... City Name is: ketchikan\n",
      "Processing... City Name is: tiksi\n",
      "Processing... City Name is: chuy\n",
      "Processing... City Name is: la asuncion\n",
      "Processing... City Name is: touros\n",
      "Processing... City Name is: asau\n",
      "Processing... City Name is: opuwo\n",
      "Processing... City Name is: cockburn town\n",
      "Processing... City Name is: mahajanga\n",
      "Processing... City Name is: kavieng\n",
      "City not found... Skipping\n",
      "City not found... Skipping\n",
      "Processing... City Name is: ribeira grande\n",
      "City not found... Skipping\n",
      "Processing... City Name is: rawson\n",
      "Processing... City Name is: qaqortoq\n",
      "Processing... City Name is: sistranda\n",
      "Processing... City Name is: saint-joseph\n",
      "City not found... Skipping\n",
      "Processing... City Name is: belmonte\n",
      "Processing... City Name is: hambantota\n",
      "City not found... Skipping\n",
      "Processing... City Name is: mackay\n",
      "Processing... City Name is: kodino\n",
      "Processing... City Name is: constitucion\n",
      "Processing... City Name is: boqueirao\n",
      "Processing... City Name is: mbaiki\n",
      "Processing... City Name is: ordu\n",
      "City not found... Skipping\n",
      "Processing... City Name is: hay river\n",
      "Processing... City Name is: peleduy\n",
      "Processing... City Name is: kaitangata\n",
      "Processing... City Name is: muravlenko\n",
      "Processing... City Name is: corn island\n",
      "Processing... City Name is: taoudenni\n",
      "Processing... City Name is: port lincoln\n",
      "Processing... City Name is: erdemli\n",
      "Processing... City Name is: beohari\n",
      "Processing... City Name is: vega de alatorre\n",
      "Processing... City Name is: sivaki\n",
      "Processing... City Name is: bambanglipuro\n",
      "Processing... City Name is: vila do maio\n",
      "Processing... City Name is: saskylakh\n",
      "Processing... City Name is: vila franca do campo\n",
      "Processing... City Name is: sembe\n",
      "Processing... City Name is: idukki\n",
      "Processing... City Name is: petropavlovsk-kamchatskiy\n",
      "Processing... City Name is: tilichiki\n",
      "Processing... City Name is: kaspiysk\n",
      "Processing... City Name is: skjervoy\n",
      "Processing... City Name is: najran\n",
      "Processing... City Name is: cap malheureux\n",
      "Processing... City Name is: konevo\n",
      "City not found... Skipping\n",
      "Processing... City Name is: oistins\n",
      "Processing... City Name is: muniz freire\n",
      "Processing... City Name is: esperance\n",
      "City not found... Skipping\n",
      "Processing... City Name is: visby\n",
      "Processing... City Name is: fort nelson\n",
      "Processing... City Name is: tulun\n",
      "City not found... Skipping\n",
      "Processing... City Name is: lujan\n",
      "Processing... City Name is: kintinku\n",
      "Processing... City Name is: rosignano marittimo\n",
      "Processing... City Name is: kargil\n",
      "Processing... City Name is: loandjili\n",
      "Processing... City Name is: calama\n",
      "Processing... City Name is: port hardy\n",
      "Processing... City Name is: kushiro\n",
      "Processing... City Name is: tambopata\n",
      "Processing... City Name is: yamada\n",
      "Processing... City Name is: luderitz\n",
      "Processing... City Name is: plettenberg bay\n",
      "Processing... City Name is: bumba\n",
      "Processing... City Name is: rapid valley\n",
      "Processing... City Name is: guangyuan\n",
      "Processing... City Name is: kahului\n",
      "Processing... City Name is: tshikapa\n",
      "Processing... City Name is: mayo\n",
      "Processing... City Name is: moose factory\n",
      "Processing... City Name is: shenjiamen\n",
      "City not found... Skipping\n",
      "Processing... City Name is: avera\n",
      "Processing... City Name is: kruisfontein\n",
      "Processing... City Name is: saint george\n",
      "Processing... City Name is: haikou\n",
      "City not found... Skipping\n",
      "Processing... City Name is: bairiki\n",
      "Processing... City Name is: marshall\n",
      "Processing... City Name is: sulejowek\n",
      "Processing... City Name is: hastings\n",
      "Processing... City Name is: san francisco de becerra\n",
      "Processing... City Name is: olbia\n",
      "Processing... City Name is: cabo san lucas\n",
      "Processing... City Name is: havre-saint-pierre\n",
      "City not found... Skipping\n",
      "Processing... City Name is: riyadh\n",
      "Processing... City Name is: tura\n",
      "City not found... Skipping\n",
      "Processing... City Name is: garowe\n",
      "City not found... Skipping\n",
      "Processing... City Name is: okoneshnikovo\n",
      "Processing... City Name is: navahrudak\n",
      "Processing... City Name is: kloulklubed\n",
      "Processing... City Name is: mbandaka\n",
      "City not found... Skipping\n",
      "Processing... City Name is: hofn\n",
      "Processing... City Name is: barraute\n",
      "Processing... City Name is: kizilskoye\n",
      "Processing... City Name is: melong\n",
      "Processing... City Name is: kaoma\n",
      "Processing... City Name is: athmallik\n",
      "City not found... Skipping\n",
      "Processing... City Name is: sambava\n",
      "Processing... City Name is: tucuman\n",
      "Processing... City Name is: srednekolymsk\n",
      "City not found... Skipping\n",
      "Processing... City Name is: dulce grande\n",
      "Processing... City Name is: mount isa\n",
      "Processing... City Name is: ambilobe\n",
      "Processing... City Name is: mocuba\n",
      "Processing... City Name is: olafsvik\n",
      "Processing... City Name is: olonets\n",
      "Processing... City Name is: bouna\n",
      "City not found... Skipping\n",
      "Processing... City Name is: shalinskoye\n",
      "Processing... City Name is: leh\n",
      "Processing... City Name is: ucluelet\n",
      "Processing... City Name is: mirnyy\n",
      "Processing... City Name is: hays\n",
      "Processing... City Name is: half moon bay\n",
      "Processing... City Name is: san quintin\n",
      "Processing... City Name is: chippewa falls\n",
      "Processing... City Name is: berbera\n",
      "City not found... Skipping\n",
      "Processing... City Name is: mehriz\n",
      "Processing... City Name is: ziro\n",
      "Processing... City Name is: juneau\n",
      "Processing... City Name is: bulgan\n",
      "Processing... City Name is: vostok\n",
      "Processing... City Name is: mahibadhoo\n",
      "Processing... City Name is: santa cecilia\n",
      "Processing... City Name is: le port\n",
      "Processing... City Name is: saumur\n",
      "Processing... City Name is: batagay\n",
      "Processing... City Name is: quthing\n",
      "Processing... City Name is: sabang\n",
      "Processing... City Name is: port hedland\n",
      "Processing... City Name is: mecca\n",
      "Processing... City Name is: gornopravdinsk\n",
      "Processing... City Name is: paita\n",
      "Processing... City Name is: lake city\n",
      "Processing... City Name is: nerchinskiy zavod\n",
      "Processing... City Name is: kungurtug\n",
      "Processing... City Name is: robe\n",
      "Processing... City Name is: road town\n",
      "Processing... City Name is: caceres\n",
      "Processing... City Name is: rosarno\n",
      "Processing... City Name is: brasov\n",
      "Processing... City Name is: waipawa\n",
      "City not found... Skipping\n",
      "Processing... City Name is: elko\n",
      "Processing... City Name is: kargasok\n",
      "Processing... City Name is: sao jose da coroa grande\n",
      "Processing... City Name is: buriti dos lopes\n",
      "Processing... City Name is: kodinsk\n",
      "Processing... City Name is: seguela\n",
      "Processing... City Name is: wanning\n",
      "Processing... City Name is: la palma\n",
      "Processing... City Name is: honiara\n",
      "Processing... City Name is: hondo\n",
      "Processing... City Name is: dingle\n",
      "Processing... City Name is: mitchell\n",
      "Processing... City Name is: marzuq\n",
      "Processing... City Name is: ponta delgada\n",
      "Processing... City Name is: steinbach\n",
      "Processing... City Name is: zhigansk\n",
      "Processing... City Name is: alice springs\n",
      "Processing... City Name is: san cristobal\n",
      "Processing... City Name is: canutama\n",
      "Processing... City Name is: shiggaon\n",
      "Processing... City Name is: yanam\n",
      "Processing... City Name is: rio gallegos\n",
      "City not found... Skipping\n",
      "Processing... City Name is: sioux lookout\n",
      "Processing... City Name is: yenagoa\n",
      "Processing... City Name is: sao miguel do araguaia\n",
      "Processing... City Name is: derzhavinsk\n",
      "Processing... City Name is: maryville\n",
      "City not found... Skipping\n",
      "Processing... City Name is: vuktyl\n",
      "Processing... City Name is: krasnokamensk\n",
      "Processing... City Name is: soe\n",
      "Processing... City Name is: salym\n",
      "Processing... City Name is: ngunguru\n",
      "Processing... City Name is: comodoro rivadavia\n",
      "Processing... City Name is: kuching\n",
      "Processing... City Name is: makhinjauri\n",
      "Processing... City Name is: balkanabat\n",
      "Processing... City Name is: kawasaki\n",
      "Processing... City Name is: shingu\n",
      "Processing... City Name is: san bartolome\n",
      "Processing... City Name is: altea\n",
      "Processing... City Name is: porbandar\n",
      "Processing... City Name is: emerald\n",
      "Processing... City Name is: solnechnyy\n",
      "Processing... City Name is: san patricio\n",
      "Processing... City Name is: codrington\n",
      "Processing... City Name is: sola\n",
      "City not found... Skipping\n",
      "Processing... City Name is: lisala\n",
      "Processing... City Name is: verkhniy rohachyk\n",
      "Processing... City Name is: vytegra\n",
      "City not found... Skipping\n",
      "Processing... City Name is: kununurra\n",
      "City not found... Skipping\n",
      "Processing... City Name is: santiago del estero\n",
      "Processing... City Name is: lloydminster\n",
      "Processing... City Name is: fairbanks\n",
      "Processing... City Name is: dalianwan\n",
      "Processing... City Name is: yorosso\n",
      "Processing... City Name is: sao joao da barra\n",
      "Processing... City Name is: troitskoye\n",
      "Processing... City Name is: ayer molek\n",
      "Processing... City Name is: minnedosa\n",
      "Processing... City Name is: yar-sale\n",
      "Processing... City Name is: teknaf\n",
      "City not found... Skipping\n",
      "Processing... City Name is: maningrida\n",
      "Processing... City Name is: meadow lake\n",
      "Processing... City Name is: charters towers\n",
      "Processing... City Name is: anloga\n",
      "Processing... City Name is: egvekinot\n",
      "Processing... City Name is: quatre cocos\n",
      "City not found... Skipping\n",
      "Processing... City Name is: monywa\n",
      "Processing... City Name is: lazaro cardenas\n",
      "Processing... City Name is: porto santo\n",
      "Processing... City Name is: dubbo\n",
      "Processing... City Name is: shipunovo\n",
      "Processing... City Name is: oakham\n",
      "Processing... City Name is: bubaque\n",
      "Processing... City Name is: hasaki\n",
      "Processing... City Name is: north branch\n",
      "Processing... City Name is: kochi\n",
      "Processing... City Name is: husavik\n",
      "Processing... City Name is: port-cartier\n",
      "Processing... City Name is: cayenne\n",
      "Processing... City Name is: kangaatsiaq\n",
      "Processing... City Name is: saint-ambroise\n",
      "Processing... City Name is: xalapa\n",
      "Processing... City Name is: shimoda\n",
      "Processing... City Name is: verkhoyansk\n",
      "Processing... City Name is: san miguel\n",
      "Processing... City Name is: puerto colombia\n",
      "Processing... City Name is: mugur-aksy\n",
      "Processing... City Name is: lao cai\n",
      "Processing... City Name is: porto novo\n",
      "Processing... City Name is: ossora\n",
      "Processing... City Name is: pajapan\n",
      "Processing... City Name is: ihosy\n",
      "Processing... City Name is: aberchirder\n",
      "Processing... City Name is: whitehorse\n",
      "Processing... City Name is: perevoz\n",
      "Processing... City Name is: zhicheng\n",
      "Processing... City Name is: bone\n",
      "Processing... City Name is: ojinaga\n",
      "Processing... City Name is: bamako\n",
      "Processing... City Name is: raudeberg\n",
      "Processing... City Name is: jesus carranza\n",
      "Processing... City Name is: hobyo\n",
      "Processing... City Name is: shitkino\n",
      "Processing... City Name is: nome\n",
      "Processing... City Name is: sitka\n",
      "Processing... City Name is: ust-maya\n",
      "Processing... City Name is: zabid\n",
      "Processing... City Name is: el sauzal\n",
      "Processing... City Name is: lewistown\n",
      "Processing... City Name is: canberra\n",
      "Processing... City Name is: hami\n",
      "Processing... City Name is: vila\n",
      "Processing... City Name is: yibin\n",
      "Processing... City Name is: belyy yar\n",
      "City not found... Skipping\n",
      "Processing... City Name is: de aar\n",
      "Processing... City Name is: waingapu\n",
      "Processing... City Name is: chumikan\n",
      "Processing... City Name is: kaeo\n",
      "Processing... City Name is: verkhnyaya toyma\n",
      "Processing... City Name is: puerto escondido\n",
      "Processing... City Name is: yaan\n",
      "Processing... City Name is: araouane\n",
      "Processing... City Name is: laguna\n",
      "Processing... City Name is: bahia blanca\n",
      "Processing... City Name is: tiarei\n",
      "Processing... City Name is: betulia\n",
      "Processing... City Name is: gorodishche\n",
      "Processing... City Name is: san jeronimo\n",
      "Processing... City Name is: lokosovo\n",
      "Processing... City Name is: pampa\n",
      "Processing... City Name is: mantua\n",
      "Processing... City Name is: loa janan\n",
      "Processing... City Name is: port blair\n",
      "Processing... City Name is: birao\n",
      "Processing... City Name is: ambovombe\n",
      "Processing... City Name is: vanavara\n"
     ]
    }
   ],
   "source": [
    "# for loop to fill empty lists above\n",
    "for city_name in cities:\n",
    "    \n",
    "    url = \"http://api.openweathermap.org/data/2.5/weather?\" # openweather url\n",
    "    units = \"imperial\" \n",
    "    # Create search query, make request and store in json\n",
    "    query_url = f\"{url}&units={units}&appid={api_key}&q=\"\n",
    "    response = requests.get(query_url + city_name).json()\n",
    "    \n",
    "    # Try to grab the values in the json file and append them to the list\n",
    "    try:\n",
    "        Max_Temp.append(response['main']['temp_max'])\n",
    "        Humidity.append(response['main']['humidity'])\n",
    "        Cloudiness.append(response['clouds']['all'])\n",
    "        Wind_Speed.append(response['wind']['speed'])\n",
    "        Country.append(response['sys']['country'])\n",
    "        Date.append(response['dt'])\n",
    "        lat.append(response['coord']['lat'])\n",
    "        long.append(response['coord']['lon'])\n",
    "        cit_name.append(response['name'])\n",
    "        print(f\"Processing... City Name is: {city_name}\") # print message for varification purposes\n",
    "        \n",
    "    # Handle exceptions for \n",
    "    except:\n",
    "        # print out where loop did not find a city\n",
    "        print(\"City not found... Skipping\")\n",
    "        pass"
   ]
  },
  {
   "cell_type": "markdown",
   "metadata": {},
   "source": [
    "### Convert Raw Data to DataFrame\n",
    "* Export the city data into a .csv.\n",
    "* Display the DataFrame"
   ]
  },
  {
   "cell_type": "code",
   "execution_count": 5,
   "metadata": {},
   "outputs": [
    {
     "data": {
      "text/html": [
       "<div>\n",
       "<style scoped>\n",
       "    .dataframe tbody tr th:only-of-type {\n",
       "        vertical-align: middle;\n",
       "    }\n",
       "\n",
       "    .dataframe tbody tr th {\n",
       "        vertical-align: top;\n",
       "    }\n",
       "\n",
       "    .dataframe thead th {\n",
       "        text-align: right;\n",
       "    }\n",
       "</style>\n",
       "<table border=\"1\" class=\"dataframe\">\n",
       "  <thead>\n",
       "    <tr style=\"text-align: right;\">\n",
       "      <th></th>\n",
       "      <th>City</th>\n",
       "      <th>lat</th>\n",
       "      <th>Lng</th>\n",
       "      <th>Max Temp</th>\n",
       "      <th>Humidity</th>\n",
       "      <th>Cloudiness</th>\n",
       "      <th>Wind Speed</th>\n",
       "      <th>Country</th>\n",
       "      <th>Date</th>\n",
       "    </tr>\n",
       "  </thead>\n",
       "  <tbody>\n",
       "    <tr>\n",
       "      <th>0</th>\n",
       "      <td>Hermanus</td>\n",
       "      <td>-34.4187</td>\n",
       "      <td>19.2345</td>\n",
       "      <td>59.00</td>\n",
       "      <td>73</td>\n",
       "      <td>37</td>\n",
       "      <td>7.00</td>\n",
       "      <td>ZA</td>\n",
       "      <td>1619910621</td>\n",
       "    </tr>\n",
       "    <tr>\n",
       "      <th>1</th>\n",
       "      <td>Albany</td>\n",
       "      <td>42.6001</td>\n",
       "      <td>-73.9662</td>\n",
       "      <td>53.01</td>\n",
       "      <td>37</td>\n",
       "      <td>40</td>\n",
       "      <td>9.22</td>\n",
       "      <td>US</td>\n",
       "      <td>1619910350</td>\n",
       "    </tr>\n",
       "    <tr>\n",
       "      <th>2</th>\n",
       "      <td>Ponta do Sol</td>\n",
       "      <td>32.6667</td>\n",
       "      <td>-17.1000</td>\n",
       "      <td>57.99</td>\n",
       "      <td>65</td>\n",
       "      <td>90</td>\n",
       "      <td>1.99</td>\n",
       "      <td>PT</td>\n",
       "      <td>1619910444</td>\n",
       "    </tr>\n",
       "    <tr>\n",
       "      <th>3</th>\n",
       "      <td>Yellowknife</td>\n",
       "      <td>62.4560</td>\n",
       "      <td>-114.3525</td>\n",
       "      <td>34.00</td>\n",
       "      <td>51</td>\n",
       "      <td>20</td>\n",
       "      <td>9.22</td>\n",
       "      <td>CA</td>\n",
       "      <td>1619910621</td>\n",
       "    </tr>\n",
       "    <tr>\n",
       "      <th>4</th>\n",
       "      <td>Airai</td>\n",
       "      <td>-8.9266</td>\n",
       "      <td>125.4092</td>\n",
       "      <td>60.85</td>\n",
       "      <td>81</td>\n",
       "      <td>81</td>\n",
       "      <td>3.51</td>\n",
       "      <td>TL</td>\n",
       "      <td>1619910622</td>\n",
       "    </tr>\n",
       "  </tbody>\n",
       "</table>\n",
       "</div>"
      ],
      "text/plain": [
       "           City      lat       Lng  Max Temp  Humidity  Cloudiness  \\\n",
       "0      Hermanus -34.4187   19.2345     59.00        73          37   \n",
       "1        Albany  42.6001  -73.9662     53.01        37          40   \n",
       "2  Ponta do Sol  32.6667  -17.1000     57.99        65          90   \n",
       "3   Yellowknife  62.4560 -114.3525     34.00        51          20   \n",
       "4         Airai  -8.9266  125.4092     60.85        81          81   \n",
       "\n",
       "   Wind Speed Country        Date  \n",
       "0        7.00      ZA  1619910621  \n",
       "1        9.22      US  1619910350  \n",
       "2        1.99      PT  1619910444  \n",
       "3        9.22      CA  1619910621  \n",
       "4        3.51      TL  1619910622  "
      ]
     },
     "execution_count": 5,
     "metadata": {},
     "output_type": "execute_result"
    }
   ],
   "source": [
    "# put all the captured values from the loop into a usable dataframe\n",
    "City_data = pd.DataFrame({\n",
    "    'City': cit_name,\n",
    "    'lat': lat,\n",
    "    'Lng': long,\n",
    "    'Max Temp': Max_Temp,\n",
    "    'Humidity': Humidity,\n",
    "    'Cloudiness': Cloudiness,\n",
    "    'Wind Speed': Wind_Speed,\n",
    "    'Country': Country,\n",
    "    'Date': Date\n",
    "})\n",
    "City_data.head() # display a portion of the new dataframe"
   ]
  },
  {
   "cell_type": "code",
   "execution_count": 6,
   "metadata": {},
   "outputs": [],
   "source": [
    "# Export the data to Resources folder and name the file 'City_Data.csv'\n",
    "City_data.to_csv('..\\Resources\\City_Data.csv',index=False)"
   ]
  },
  {
   "cell_type": "code",
   "execution_count": 7,
   "metadata": {},
   "outputs": [
    {
     "data": {
      "text/html": [
       "<div>\n",
       "<style scoped>\n",
       "    .dataframe tbody tr th:only-of-type {\n",
       "        vertical-align: middle;\n",
       "    }\n",
       "\n",
       "    .dataframe tbody tr th {\n",
       "        vertical-align: top;\n",
       "    }\n",
       "\n",
       "    .dataframe thead th {\n",
       "        text-align: right;\n",
       "    }\n",
       "</style>\n",
       "<table border=\"1\" class=\"dataframe\">\n",
       "  <thead>\n",
       "    <tr style=\"text-align: right;\">\n",
       "      <th></th>\n",
       "      <th>lat</th>\n",
       "      <th>Lng</th>\n",
       "      <th>Max Temp</th>\n",
       "      <th>Humidity</th>\n",
       "      <th>Cloudiness</th>\n",
       "      <th>Wind Speed</th>\n",
       "      <th>Date</th>\n",
       "    </tr>\n",
       "  </thead>\n",
       "  <tbody>\n",
       "    <tr>\n",
       "      <th>count</th>\n",
       "      <td>552.000000</td>\n",
       "      <td>552.000000</td>\n",
       "      <td>552.000000</td>\n",
       "      <td>552.000000</td>\n",
       "      <td>552.000000</td>\n",
       "      <td>552.000000</td>\n",
       "      <td>5.520000e+02</td>\n",
       "    </tr>\n",
       "    <tr>\n",
       "      <th>mean</th>\n",
       "      <td>19.527796</td>\n",
       "      <td>16.349370</td>\n",
       "      <td>60.756866</td>\n",
       "      <td>71.094203</td>\n",
       "      <td>54.688406</td>\n",
       "      <td>7.606848</td>\n",
       "      <td>1.619911e+09</td>\n",
       "    </tr>\n",
       "    <tr>\n",
       "      <th>std</th>\n",
       "      <td>34.167887</td>\n",
       "      <td>90.032692</td>\n",
       "      <td>19.113232</td>\n",
       "      <td>21.967601</td>\n",
       "      <td>38.111128</td>\n",
       "      <td>5.639326</td>\n",
       "      <td>1.148713e+02</td>\n",
       "    </tr>\n",
       "    <tr>\n",
       "      <th>min</th>\n",
       "      <td>-54.800000</td>\n",
       "      <td>-179.166700</td>\n",
       "      <td>13.100000</td>\n",
       "      <td>4.000000</td>\n",
       "      <td>0.000000</td>\n",
       "      <td>0.310000</td>\n",
       "      <td>1.619910e+09</td>\n",
       "    </tr>\n",
       "    <tr>\n",
       "      <th>25%</th>\n",
       "      <td>-11.330125</td>\n",
       "      <td>-62.453475</td>\n",
       "      <td>44.900000</td>\n",
       "      <td>61.750000</td>\n",
       "      <td>20.000000</td>\n",
       "      <td>3.525000</td>\n",
       "      <td>1.619911e+09</td>\n",
       "    </tr>\n",
       "    <tr>\n",
       "      <th>50%</th>\n",
       "      <td>22.384400</td>\n",
       "      <td>20.510400</td>\n",
       "      <td>64.185000</td>\n",
       "      <td>75.000000</td>\n",
       "      <td>61.500000</td>\n",
       "      <td>5.860000</td>\n",
       "      <td>1.619911e+09</td>\n",
       "    </tr>\n",
       "    <tr>\n",
       "      <th>75%</th>\n",
       "      <td>50.116750</td>\n",
       "      <td>92.350050</td>\n",
       "      <td>77.000000</td>\n",
       "      <td>88.000000</td>\n",
       "      <td>91.000000</td>\n",
       "      <td>10.360000</td>\n",
       "      <td>1.619911e+09</td>\n",
       "    </tr>\n",
       "    <tr>\n",
       "      <th>max</th>\n",
       "      <td>78.218600</td>\n",
       "      <td>179.316700</td>\n",
       "      <td>94.800000</td>\n",
       "      <td>100.000000</td>\n",
       "      <td>100.000000</td>\n",
       "      <td>39.120000</td>\n",
       "      <td>1.619911e+09</td>\n",
       "    </tr>\n",
       "  </tbody>\n",
       "</table>\n",
       "</div>"
      ],
      "text/plain": [
       "              lat         Lng    Max Temp    Humidity  Cloudiness  Wind Speed  \\\n",
       "count  552.000000  552.000000  552.000000  552.000000  552.000000  552.000000   \n",
       "mean    19.527796   16.349370   60.756866   71.094203   54.688406    7.606848   \n",
       "std     34.167887   90.032692   19.113232   21.967601   38.111128    5.639326   \n",
       "min    -54.800000 -179.166700   13.100000    4.000000    0.000000    0.310000   \n",
       "25%    -11.330125  -62.453475   44.900000   61.750000   20.000000    3.525000   \n",
       "50%     22.384400   20.510400   64.185000   75.000000   61.500000    5.860000   \n",
       "75%     50.116750   92.350050   77.000000   88.000000   91.000000   10.360000   \n",
       "max     78.218600  179.316700   94.800000  100.000000  100.000000   39.120000   \n",
       "\n",
       "               Date  \n",
       "count  5.520000e+02  \n",
       "mean   1.619911e+09  \n",
       "std    1.148713e+02  \n",
       "min    1.619910e+09  \n",
       "25%    1.619911e+09  \n",
       "50%    1.619911e+09  \n",
       "75%    1.619911e+09  \n",
       "max    1.619911e+09  "
      ]
     },
     "execution_count": 7,
     "metadata": {},
     "output_type": "execute_result"
    }
   ],
   "source": [
    "# a brief description of the data \n",
    "City_data.describe()"
   ]
  },
  {
   "cell_type": "markdown",
   "metadata": {},
   "source": [
    "## Inspect the data and remove the cities where the humidity > 100%.\n",
    "----\n",
    "Skip this step if there are no cities that have humidity > 100%. "
   ]
  },
  {
   "cell_type": "code",
   "execution_count": 8,
   "metadata": {},
   "outputs": [
    {
     "data": {
      "text/plain": [
       "Int64Index([], dtype='int64')"
      ]
     },
     "execution_count": 8,
     "metadata": {},
     "output_type": "execute_result"
    }
   ],
   "source": [
    "#  Get the indices of cities that have humidity over 100%.\n",
    "hum_100 = City_data[City_data['Humidity'] > 100]\n",
    "index = hum_100.index\n",
    "index"
   ]
  },
  {
   "cell_type": "code",
   "execution_count": 9,
   "metadata": {},
   "outputs": [
    {
     "data": {
      "text/html": [
       "<div>\n",
       "<style scoped>\n",
       "    .dataframe tbody tr th:only-of-type {\n",
       "        vertical-align: middle;\n",
       "    }\n",
       "\n",
       "    .dataframe tbody tr th {\n",
       "        vertical-align: top;\n",
       "    }\n",
       "\n",
       "    .dataframe thead th {\n",
       "        text-align: right;\n",
       "    }\n",
       "</style>\n",
       "<table border=\"1\" class=\"dataframe\">\n",
       "  <thead>\n",
       "    <tr style=\"text-align: right;\">\n",
       "      <th></th>\n",
       "      <th>City</th>\n",
       "      <th>lat</th>\n",
       "      <th>Lng</th>\n",
       "      <th>Max Temp</th>\n",
       "      <th>Humidity</th>\n",
       "      <th>Cloudiness</th>\n",
       "      <th>Wind Speed</th>\n",
       "      <th>Country</th>\n",
       "      <th>Date</th>\n",
       "    </tr>\n",
       "  </thead>\n",
       "  <tbody>\n",
       "    <tr>\n",
       "      <th>0</th>\n",
       "      <td>Hermanus</td>\n",
       "      <td>-34.4187</td>\n",
       "      <td>19.2345</td>\n",
       "      <td>59.00</td>\n",
       "      <td>73</td>\n",
       "      <td>37</td>\n",
       "      <td>7.00</td>\n",
       "      <td>ZA</td>\n",
       "      <td>1619910621</td>\n",
       "    </tr>\n",
       "    <tr>\n",
       "      <th>1</th>\n",
       "      <td>Albany</td>\n",
       "      <td>42.6001</td>\n",
       "      <td>-73.9662</td>\n",
       "      <td>53.01</td>\n",
       "      <td>37</td>\n",
       "      <td>40</td>\n",
       "      <td>9.22</td>\n",
       "      <td>US</td>\n",
       "      <td>1619910350</td>\n",
       "    </tr>\n",
       "    <tr>\n",
       "      <th>2</th>\n",
       "      <td>Ponta do Sol</td>\n",
       "      <td>32.6667</td>\n",
       "      <td>-17.1000</td>\n",
       "      <td>57.99</td>\n",
       "      <td>65</td>\n",
       "      <td>90</td>\n",
       "      <td>1.99</td>\n",
       "      <td>PT</td>\n",
       "      <td>1619910444</td>\n",
       "    </tr>\n",
       "    <tr>\n",
       "      <th>3</th>\n",
       "      <td>Yellowknife</td>\n",
       "      <td>62.4560</td>\n",
       "      <td>-114.3525</td>\n",
       "      <td>34.00</td>\n",
       "      <td>51</td>\n",
       "      <td>20</td>\n",
       "      <td>9.22</td>\n",
       "      <td>CA</td>\n",
       "      <td>1619910621</td>\n",
       "    </tr>\n",
       "    <tr>\n",
       "      <th>4</th>\n",
       "      <td>Airai</td>\n",
       "      <td>-8.9266</td>\n",
       "      <td>125.4092</td>\n",
       "      <td>60.85</td>\n",
       "      <td>81</td>\n",
       "      <td>81</td>\n",
       "      <td>3.51</td>\n",
       "      <td>TL</td>\n",
       "      <td>1619910622</td>\n",
       "    </tr>\n",
       "  </tbody>\n",
       "</table>\n",
       "</div>"
      ],
      "text/plain": [
       "           City      lat       Lng  Max Temp  Humidity  Cloudiness  \\\n",
       "0      Hermanus -34.4187   19.2345     59.00        73          37   \n",
       "1        Albany  42.6001  -73.9662     53.01        37          40   \n",
       "2  Ponta do Sol  32.6667  -17.1000     57.99        65          90   \n",
       "3   Yellowknife  62.4560 -114.3525     34.00        51          20   \n",
       "4         Airai  -8.9266  125.4092     60.85        81          81   \n",
       "\n",
       "   Wind Speed Country        Date  \n",
       "0        7.00      ZA  1619910621  \n",
       "1        9.22      US  1619910350  \n",
       "2        1.99      PT  1619910444  \n",
       "3        9.22      CA  1619910621  \n",
       "4        3.51      TL  1619910622  "
      ]
     },
     "execution_count": 9,
     "metadata": {},
     "output_type": "execute_result"
    }
   ],
   "source": [
    "# Make a new DataFrame equal to the city data to drop all humidity outliers by index.\n",
    "# Passing \"inplace=False\" will make a copy of the city_data DataFrame, which we call \"clean_city_data\".\n",
    "# apply filter to data - this is to see if there are any cities with 100%+ humidity and keep only cities below\n",
    "clean_city_data = City_data[City_data['Humidity'] < 100] \n",
    "clean_city_data.head()"
   ]
  },
  {
   "cell_type": "markdown",
   "metadata": {},
   "source": [
    "The above table is the final cleaned up version of the original city_data captured through the for loop. \n",
    "\n",
    "What comes next is plotting to see where correlation exist"
   ]
  },
  {
   "cell_type": "markdown",
   "metadata": {},
   "source": [
    "## Plotting the Data\n",
    "* Use proper labeling of the plots using plot titles (including date of analysis) and axes labels.\n",
    "* Save the plotted figures as .pngs."
   ]
  },
  {
   "cell_type": "markdown",
   "metadata": {},
   "source": [
    "## Latitude vs. Temperature Plot"
   ]
  },
  {
   "cell_type": "code",
   "execution_count": 15,
   "metadata": {
    "scrolled": true
   },
   "outputs": [
    {
     "data": {
      "image/png": "[encoded data removed]",
      "text/plain": [
       "<Figure size 432x288 with 1 Axes>"
      ]
     },
     "metadata": {
      "needs_background": "light"
     },
     "output_type": "display_data"
    }
   ],
   "source": [
    "# isolate latitude and Max Temp for plot purposes\n",
    "lat_temp = clean_city_data[['lat','Max Temp']]\n",
    "\n",
    "# scatter plot\n",
    "plt.scatter(lat_temp['lat'],lat_temp['Max Temp'])\n",
    "\n",
    "# labels for plot\n",
    "plt.title(\"City Latitude vs. Max Temp\")\n",
    "plt.xlabel(\"Latitude\")\n",
    "plt.ylabel(\"Temperature (F)\")\n",
    "plt.savefig(\"../images/City Latitde vs Max Temperature.png\")"
   ]
  },
  {
   "cell_type": "markdown",
   "metadata": {},
   "source": [
    "In the above 1st plot, the plots shows how temperature tends to behave depending on how close or far away one gets to the equator. \n",
    "\n",
    "Max temperatures are very high around the equator. The further you get away, however, temperatur drops fast. "
   ]
  },
  {
   "cell_type": "markdown",
   "metadata": {},
   "source": [
    "## Latitude vs. Humidity Plot"
   ]
  },
  {
   "cell_type": "code",
   "execution_count": 16,
   "metadata": {},
   "outputs": [
    {
     "data": {
      "image/png": "[encoded data removed]",
      "text/plain": [
       "<Figure size 432x288 with 1 Axes>"
      ]
     },
     "metadata": {
      "needs_background": "light"
     },
     "output_type": "display_data"
    }
   ],
   "source": [
    "lat_Hum = clean_city_data[['lat','Humidity']]\n",
    "\n",
    "# scatter plot\n",
    "plt.scatter(lat_Hum['lat'],lat_Hum['Humidity'])\n",
    "\n",
    "# labels for plot\n",
    "plt.title(\"City Latitude vs. Humidity\")\n",
    "plt.xlabel(\"Latitude\")\n",
    "plt.ylabel(\"Humidity (%)\")\n",
    "plt.savefig(\"../images/City Latitde vs Humidity.png\")"
   ]
  },
  {
   "cell_type": "markdown",
   "metadata": {},
   "source": [
    "The behavior of humidity as one gets far or close to the equator is not quite easy to determine, as the above scatter plot shows. The correlation is not very upfront.\n",
    "\n",
    "There are high and low humidity all throughout. Although, VERY close to the equator, the scatter plot shows where humidity tend to be always high. There doesn't appear to be any low humidity points around the equator. "
   ]
  },
  {
   "cell_type": "markdown",
   "metadata": {},
   "source": [
    "## Latitude vs. Cloudiness Plot"
   ]
  },
  {
   "cell_type": "code",
   "execution_count": 17,
   "metadata": {},
   "outputs": [
    {
     "data": {
      "image/png": "[encoded data removed]",
      "text/plain": [
       "<Figure size 432x288 with 1 Axes>"
      ]
     },
     "metadata": {
      "needs_background": "light"
     },
     "output_type": "display_data"
    }
   ],
   "source": [
    "lat_cloud = clean_city_data[['lat','Cloudiness']]\n",
    "\n",
    "# scatter plot\n",
    "plt.scatter(lat_cloud['lat'],lat_cloud['Cloudiness'])\n",
    "\n",
    "# labels for plot\n",
    "plt.title(\"City Latitude vs. Cloudiness\")\n",
    "plt.xlabel(\"Latitude\")\n",
    "plt.ylabel(\"Cloudiness (%)\")\n",
    "plt.savefig(\"../images/City Latitde vs Cloudiness.png\")"
   ]
  },
  {
   "cell_type": "markdown",
   "metadata": {},
   "source": [
    "The above scatter plot does not show much of a correlation between latitude and cloudiness. The most apparent from the plot there are some densly cloudy areas MUCH above the equator at the time this data was captured. "
   ]
  },
  {
   "cell_type": "markdown",
   "metadata": {},
   "source": [
    "## Latitude vs. Wind Speed Plot"
   ]
  },
  {
   "cell_type": "code",
   "execution_count": 18,
   "metadata": {},
   "outputs": [
    {
     "data": {
      "image/png": "[encoded data removed]",
      "text/plain": [
       "<Figure size 432x288 with 1 Axes>"
      ]
     },
     "metadata": {
      "needs_background": "light"
     },
     "output_type": "display_data"
    }
   ],
   "source": [
    "lat_wind = clean_city_data[['lat','Wind Speed']]\n",
    "\n",
    "# scatter plot\n",
    "plt.scatter(lat_wind['lat'],lat_wind['Wind Speed'])\n",
    "\n",
    "# labels for plot\n",
    "plt.title(\"City Latitude vs. Wind Speed\")\n",
    "plt.xlabel(\"Latitude\")\n",
    "plt.ylabel(\"Wind Speed (mph)\")\n",
    "plt.savefig(\"../images/City Latitde vs Wind Speed.png\")"
   ]
  },
  {
   "cell_type": "markdown",
   "metadata": {},
   "source": [
    "Wind speeds, according to the scatter plot above, are relatively low regardless of how close one gets to the equator."
   ]
  },
  {
   "cell_type": "markdown",
   "metadata": {},
   "source": [
    "## Linear Regression"
   ]
  },
  {
   "cell_type": "code",
   "execution_count": null,
   "metadata": {},
   "outputs": [],
   "source": [
    "# City_data[City_data['Humidity'] > 100]"
   ]
  },
  {
   "cell_type": "markdown",
   "metadata": {},
   "source": [
    "####  Northern Hemisphere - Max Temp vs. Latitude Linear Regression"
   ]
  },
  {
   "cell_type": "code",
   "execution_count": 34,
   "metadata": {},
   "outputs": [
    {
     "name": "stdout",
     "output_type": "stream",
     "text": [
      "The r-valued is: 0.7321255347360719\n"
     ]
    },
    {
     "data": {
      "image/png": "[encoded data removed]",
      "text/plain": [
       "<Figure size 432x288 with 1 Axes>"
      ]
     },
     "metadata": {
      "needs_background": "light"
     },
     "output_type": "display_data"
    }
   ],
   "source": [
    "# filtering the Latitute/Max temp data for where Lat is greater than or equal to 0\n",
    "north_temp = lat_temp[lat_temp['lat'] >= 0]\n",
    "\n",
    "# calculate linear regression\n",
    "data_regress_NT = linregress(north_temp.iloc[:,0],north_temp.iloc[:,1])\n",
    "\n",
    "# unpack the regression \n",
    "(slope, intercept, rvalue, pvalue, stderr) = data_regress_NT\n",
    "\n",
    "# using the regression formula (y = mx + b) pass the unpacked values into a variable\n",
    "reg_value_NT = north_temp.iloc[:,0]*slope + intercept\n",
    "equation_NT = \"y = \" + str(round(slope,2)) + \"x + \" + str(round(intercept,2))\n",
    "# print(equation_NT)\n",
    "\n",
    "# Plotting\n",
    "plt.plot(north_temp.iloc[:,0],reg_value_NT,color='green', linestyle='dashed')\n",
    "plt.scatter(north_temp['lat'],north_temp['Max Temp']) # scatter plot\n",
    "plt.annotate(equation_NT,(3,20),fontsize=15,color=\"red\")\n",
    "\n",
    "# labels for plot\n",
    "plt.title(\"Northern Hemisphere Lat vs. Max Temperature\")\n",
    "plt.xlabel(\"Latitude\")\n",
    "plt.ylabel(\"Temperature (f)\")\n",
    "print(f\"The r-valued is: {rvalue**2}\")\n",
    "plt.savefig(\"../images/Northern Hemisphere Lat vs. Max Temperature.png\")\n",
    "plt.show()\n"
   ]
  },
  {
   "cell_type": "markdown",
   "metadata": {},
   "source": [
    "In the above plot and value, the r-squared value (0.73) indicates that about 73% of the variability in the data centers around the mean. What this means is that one can tell how well the linear model fit the observation about max temperate behavior when one moves away from the equator. I previously stated that maximum temperature tends to drop when one moves away from the equator. The regression line in the scatter plot shows the linearity of that relationship. Additionaly, the r-squared value fortifies this relationship. "
   ]
  },
  {
   "cell_type": "markdown",
   "metadata": {},
   "source": [
    "####  Southern Hemisphere - Max Temp vs. Latitude Linear Regression"
   ]
  },
  {
   "cell_type": "code",
   "execution_count": 36,
   "metadata": {},
   "outputs": [
    {
     "name": "stdout",
     "output_type": "stream",
     "text": [
      "The r-valued is: 0.5134284746082607\n"
     ]
    },
    {
     "data": {
      "image/png": "[encoded data removed]",
      "text/plain": [
       "<Figure size 432x288 with 1 Axes>"
      ]
     },
     "metadata": {
      "needs_background": "light"
     },
     "output_type": "display_data"
    }
   ],
   "source": [
    "# filtering the Latitute/Max temp data for where Lat is less than 0\n",
    "south_temp = lat_temp[lat_temp['lat'] < 0]\n",
    "\n",
    "# calculate linear regression\n",
    "data_regress_ST = linregress(south_temp.iloc[:,0],south_temp.iloc[:,1])\n",
    "\n",
    "# unpack the regression \n",
    "(slope, intercept, rvalue, pvalue, stderr) = data_regress_ST\n",
    "\n",
    "# using the regression formula (y = mx + b) pass the unpacked values into a variable\n",
    "reg_value_ST = south_temp.iloc[:,0]*slope + intercept\n",
    "equation_ST = \"y = \" + str(round(slope,2)) + \"x + \" + str(round(intercept,2))\n",
    "# print(equation_ST)\n",
    "\n",
    "# Plotting\n",
    "plt.plot(south_temp.iloc[:,0],reg_value_ST,color='green', linestyle='dashed')\n",
    "plt.scatter(south_temp['lat'],south_temp['Max Temp']) # scatter plot\n",
    "plt.annotate(equation_ST,(-40,42),fontsize=15,color=\"red\")\n",
    "\n",
    "# labels for plot\n",
    "plt.title(\"Southern Hemisphere Lat vs. Max Temperature\")\n",
    "plt.xlabel(\"Latitude\")\n",
    "plt.ylabel(\"Temperature (f)\")\n",
    "print(f\"The r-valued is: {rvalue**2}\")\n",
    "\n",
    "\n",
    "plt.savefig(\"../images/Southern Hemisphere Lat vs. Max Temperature.png\")\n",
    "plt.show()"
   ]
  },
  {
   "cell_type": "markdown",
   "metadata": {},
   "source": [
    "In the above plot and value, the r-squared value (0.51) indicates that about 51% of the variability in the data centers around the mean. The linearity of this data does not fit our observation as well as it did in the northern hemisphere scatter plot. However, there is still some linearity seen in the plot. This can be due to the fact that the random number generator used to select latitudes favored more northern hemisphere data points than it did for the southern hemisphere. Regardless, there is still a correlation of max temperature being relatively low the further one gets away from the equator. "
   ]
  },
  {
   "cell_type": "markdown",
   "metadata": {},
   "source": [
    "####  Northern Hemisphere - Humidity (%) vs. Latitude Linear Regression"
   ]
  },
  {
   "cell_type": "code",
   "execution_count": 37,
   "metadata": {},
   "outputs": [
    {
     "name": "stdout",
     "output_type": "stream",
     "text": [
      "The r-valued is: 0.002932716817409596\n"
     ]
    },
    {
     "data": {
      "image/png": "[encoded data removed]",
      "text/plain": [
       "<Figure size 432x288 with 1 Axes>"
      ]
     },
     "metadata": {
      "needs_background": "light"
     },
     "output_type": "display_data"
    }
   ],
   "source": [
    "# filtering the Latitute/Humidity data for where Lat is greater than or equal to 0\n",
    "north_hum = lat_Hum[lat_Hum['lat'] >= 0]\n",
    "\n",
    "# calculate linear regression\n",
    "data_regress_NH = linregress(north_hum.iloc[:,0],north_hum.iloc[:,1])\n",
    "\n",
    "# unpack the regression \n",
    "(slope, intercept, rvalue, pvalue, stderr) = data_regress_NH\n",
    "\n",
    "# using the regression formula (y = mx + b) pass the unpacked values into a variable\n",
    "reg_value_NH = north_hum.iloc[:,0]*slope + intercept\n",
    "equation_NH = \"y = \" + str(round(slope,2)) + \"x + \" + str(round(intercept,2))\n",
    "# print(equation_NH)\n",
    "\n",
    "# Plotting\n",
    "plt.plot(north_hum.iloc[:,0],reg_value_NH,color='green', linestyle='dashed')\n",
    "plt.scatter(north_hum['lat'],north_hum['Humidity']) # scatter plot\n",
    "plt.annotate(equation_NH,(40,3),fontsize=15,color=\"red\")\n",
    "\n",
    "# labels for plot\n",
    "plt.title(\"Northern Hemisphere Lat vs. Humidity\")\n",
    "plt.xlabel(\"Latitude\")\n",
    "plt.ylabel(\"Humidity (%)\")\n",
    "print(f\"The r-valued is: {rvalue**2}\")\n",
    "plt.savefig(\"../images/Northern Hemisphere Lat vs. Humidity.png\")\n",
    "plt.show()"
   ]
  },
  {
   "cell_type": "markdown",
   "metadata": {},
   "source": [
    "In the above plot, the r-squared value (0.029) indicates that about 2.9% of the variability in the data centers around the mean. As I stated previously, there is not much of a relationship between humidity and latitude change. Only 2% of the data centers around the mean, and the slope of the line is not linear enough to explain a good correlation. The regression line in the scatter plot shows the absence of linearity. Additionaly, the r-squared value does not fortifies this relationship."
   ]
  },
  {
   "cell_type": "markdown",
   "metadata": {},
   "source": [
    "####  Southern Hemisphere - Humidity (%) vs. Latitude Linear Regression"
   ]
  },
  {
   "cell_type": "code",
   "execution_count": 38,
   "metadata": {},
   "outputs": [
    {
     "name": "stdout",
     "output_type": "stream",
     "text": [
      "The r-valued is: 0.06555669595099045\n"
     ]
    },
    {
     "data": {
      "image/png": "[encoded data removed]",
      "text/plain": [
       "<Figure size 432x288 with 1 Axes>"
      ]
     },
     "metadata": {
      "needs_background": "light"
     },
     "output_type": "display_data"
    }
   ],
   "source": [
    "# filtering the Latitute/Humidity data for where Lat is less than 0\n",
    "south_hum = lat_Hum[lat_Hum['lat'] < 0]\n",
    "\n",
    "# calculate linear regression\n",
    "data_regress_SH = linregress(south_hum.iloc[:,0],south_hum.iloc[:,1])\n",
    "\n",
    "# unpack the regression \n",
    "(slope, intercept, rvalue, pvalue, stderr) = data_regress_SH\n",
    "\n",
    "# using the regression formula (y = mx + b) pass the unpacked values into a variable\n",
    "reg_value_SH = south_hum.iloc[:,0]*slope + intercept\n",
    "equation_SH = \"y = \" + str(round(slope,2)) + \"x + \" + str(round(intercept,2))\n",
    "# print(equation_SH)\n",
    "\n",
    "# Plotting\n",
    "plt.plot(south_hum.iloc[:,0],reg_value_SH,color='green', linestyle='dashed')\n",
    "plt.scatter(south_hum['lat'],south_hum['Humidity']) # scatter plot\n",
    "plt.annotate(equation_SH,(-50,18),fontsize=15,color=\"red\")\n",
    "\n",
    "# labels for plot\n",
    "plt.title(\"Southern Hemisphere Lat vs. Humidity\")\n",
    "plt.xlabel(\"Latitude\")\n",
    "plt.ylabel(\"Humidity (%)\")\n",
    "print(f\"The r-valued is: {rvalue**2}\")\n",
    "\n",
    "plt.savefig(\"../images/Southern Hemisphere Lat vs. Humidity.png\")\n",
    "plt.show()"
   ]
  },
  {
   "cell_type": "markdown",
   "metadata": {},
   "source": [
    "Observations of Southern hemisphere humidity scatter plot is relatively similar to that of the north. The regression line is less linear than the north; further proving that there is no positive/negative relationship between humidity and change in latitude."
   ]
  },
  {
   "cell_type": "markdown",
   "metadata": {},
   "source": [
    "####  Northern Hemisphere - Cloudiness (%) vs. Latitude Linear Regression"
   ]
  },
  {
   "cell_type": "code",
   "execution_count": 39,
   "metadata": {},
   "outputs": [
    {
     "name": "stdout",
     "output_type": "stream",
     "text": [
      "The r-valued is: 0.005825393597866237\n"
     ]
    },
    {
     "data": {
      "image/png": "[encoded data removed]",
      "text/plain": [
       "<Figure size 432x288 with 1 Axes>"
      ]
     },
     "metadata": {
      "needs_background": "light"
     },
     "output_type": "display_data"
    }
   ],
   "source": [
    "# filtering the Latitute/Cloudiness data for where Lat is greater than or equal to 0\n",
    "north_cloud = lat_cloud[lat_cloud['lat'] >= 0]\n",
    "\n",
    "# calculate linear regression\n",
    "data_regress_NC = linregress(north_cloud.iloc[:,0],north_cloud.iloc[:,1])\n",
    "\n",
    "# unpack the regression \n",
    "(slope, intercept, rvalue, pvalue, stderr) = data_regress_NC\n",
    "\n",
    "# using the regression formula (y = mx + b) pass the unpacked values into a variable\n",
    "reg_value_NC = north_cloud.iloc[:,0]*slope + intercept\n",
    "equation_NC = \"y = \" + str(round(slope,2)) + \"x + \" + str(round(intercept,2))\n",
    "# print(equation_NH)\n",
    "\n",
    "# Plotting\n",
    "plt.plot(north_cloud.iloc[:,0],reg_value_NC,color='green', linestyle='dashed')\n",
    "plt.scatter(north_cloud['lat'],north_cloud['Cloudiness']) # scatter plot\n",
    "plt.annotate(equation_NC,(45,45),fontsize=15,color=\"red\")\n",
    "\n",
    "# labels for plot\n",
    "plt.title(\"Northern Hemisphere Lat vs. Cloudiness (%)\")\n",
    "plt.xlabel(\"Latitude\")\n",
    "plt.ylabel(\"Cloudiness (%)\")\n",
    "print(f\"The r-valued is: {rvalue**2}\")\n",
    "\n",
    "plt.savefig(\"../images/Northern Hemisphere Lat vs. Cloudiness (%).png\")\n",
    "\n",
    "plt.show()"
   ]
  },
  {
   "cell_type": "markdown",
   "metadata": {},
   "source": [
    "Similar to humidity, cloudines does not appear to be affected by change in latitude. Slope of the regresion line is relatively flat. Furthermore, only about 2% (r-squared value of 0.018) of the data centers around the mean. "
   ]
  },
  {
   "cell_type": "markdown",
   "metadata": {},
   "source": [
    "####  Southern Hemisphere - Cloudiness (%) vs. Latitude Linear Regression"
   ]
  },
  {
   "cell_type": "code",
   "execution_count": 40,
   "metadata": {},
   "outputs": [
    {
     "name": "stdout",
     "output_type": "stream",
     "text": [
      "The r-valued is: 0.051220481915683035\n"
     ]
    },
    {
     "data": {
      "image/png": "[encoded data removed]",
      "text/plain": [
       "<Figure size 432x288 with 1 Axes>"
      ]
     },
     "metadata": {
      "needs_background": "light"
     },
     "output_type": "display_data"
    }
   ],
   "source": [
    "# filtering the Latitute/Cloudiness data for where Lat is less than 0\n",
    "south_cloud = lat_cloud[lat_cloud['lat'] < 0]\n",
    "\n",
    "# calculate linear regression\n",
    "data_regress_SC = linregress(south_cloud.iloc[:,0],south_cloud.iloc[:,1])\n",
    "\n",
    "# unpack the regression \n",
    "(slope, intercept, rvalue, pvalue, stderr) = data_regress_SC\n",
    "\n",
    "# using the regression formula (y = mx + b) pass the unpacked values into a variable\n",
    "reg_value_SC = south_cloud.iloc[:,0]*slope + intercept\n",
    "equation_SC = \"y = \" + str(round(slope,2)) + \"x + \" + str(round(intercept,2))\n",
    "# print(equation_NH)\n",
    "\n",
    "# Plotting\n",
    "plt.plot(south_cloud.iloc[:,0],reg_value_SC,color='green', linestyle='dashed')\n",
    "plt.scatter(south_cloud['lat'],south_cloud['Cloudiness']) # scatter plot\n",
    "plt.annotate(equation_SC,(-55,0),fontsize=10,color=\"red\")\n",
    "\n",
    "# labels for plot\n",
    "plt.title(\"Southern Hemisphere Lat vs. Cloudiness (%)\")\n",
    "plt.xlabel(\"Latitude\")\n",
    "plt.ylabel(\"Cloudiness (%)\")\n",
    "print(f\"The r-valued is: {rvalue**2}\")\n",
    "\n",
    "plt.savefig(\"../images/Southern Hemisphere Lat vs. Cloudiness (%).png\")\n",
    "plt.show()"
   ]
  },
  {
   "cell_type": "markdown",
   "metadata": {},
   "source": [
    "Again, cloudines does not appear to be affected by change in latitude. Only about 5% (r-squared value of 0.051) of the data centers around the mean. "
   ]
  },
  {
   "cell_type": "markdown",
   "metadata": {},
   "source": [
    "####  Northern Hemisphere - Wind Speed (mph) vs. Latitude Linear Regression"
   ]
  },
  {
   "cell_type": "code",
   "execution_count": 41,
   "metadata": {},
   "outputs": [
    {
     "name": "stdout",
     "output_type": "stream",
     "text": [
      "The r-valued is: 0.01612278884181325\n"
     ]
    },
    {
     "data": {
      "image/png": "[encoded data removed]",
      "text/plain": [
       "<Figure size 432x288 with 1 Axes>"
      ]
     },
     "metadata": {
      "needs_background": "light"
     },
     "output_type": "display_data"
    }
   ],
   "source": [
    "# filtering the Latitute/Wind Speed data for where Lat is greater than or equal to 0\n",
    "north_wind = lat_wind[lat_wind['lat'] >= 0]\n",
    "\n",
    "# calculate linear regression\n",
    "data_regress_NW = linregress(north_wind.iloc[:,0],north_wind.iloc[:,1])\n",
    "\n",
    "# unpack the regression \n",
    "(slope, intercept, rvalue, pvalue, stderr) = data_regress_NW\n",
    "\n",
    "# using the regression formula (y = mx + b) pass the unpacked values into a variable\n",
    "reg_value_NW = north_wind.iloc[:,0]*slope + intercept\n",
    "equation_NW = \"y = \" + str(round(slope,2)) + \"x + \" + str(round(intercept,2))\n",
    "# print(equation_NH)\n",
    "\n",
    "# Plotting\n",
    "plt.plot(north_wind.iloc[:,0],reg_value_NW,color='green', linestyle='dashed')\n",
    "plt.scatter(north_wind['lat'],north_wind['Wind Speed']) # scatter plot\n",
    "plt.annotate(equation_NW,(0,22),fontsize=15,color=\"red\")\n",
    "\n",
    "# labels for plot\n",
    "plt.title(\"Northern Hemisphere Lat vs. Wind Speed (mph)\")\n",
    "plt.xlabel(\"Latitude\")\n",
    "plt.ylabel(\"Wind Speed (mph)\")\n",
    "print(f\"The r-valued is: {rvalue**2}\")\n",
    "\n",
    "plt.savefig(\"../images/Northern Hemisphere Lat vs. Wind Speed (mph).png\")\n",
    "plt.show()"
   ]
  },
  {
   "cell_type": "markdown",
   "metadata": {},
   "source": [
    "In the above plot, we see that there is little to no relationship between windspeed and change in latitude. R-squared also fortifies this observation"
   ]
  },
  {
   "cell_type": "markdown",
   "metadata": {},
   "source": [
    "####  Southern Hemisphere - Wind Speed (mph) vs. Latitude Linear Regression"
   ]
  },
  {
   "cell_type": "code",
   "execution_count": 42,
   "metadata": {},
   "outputs": [
    {
     "name": "stdout",
     "output_type": "stream",
     "text": [
      "The r-valued is: 0.017146581215053525\n"
     ]
    },
    {
     "data": {
      "image/png": "[encoded data removed]",
      "text/plain": [
       "<Figure size 432x288 with 1 Axes>"
      ]
     },
     "metadata": {
      "needs_background": "light"
     },
     "output_type": "display_data"
    }
   ],
   "source": [
    "# filtering the Latitute/Wind Speed data for where Lat is less than 0\n",
    "south_wind = lat_wind[lat_wind['lat'] < 0]\n",
    "\n",
    "# calculate linear regression\n",
    "data_regress_SW = linregress(south_wind.iloc[:,0],south_wind.iloc[:,1])\n",
    "\n",
    "# unpack the regression \n",
    "(slope, intercept, rvalue, pvalue, stderr) = data_regress_SW\n",
    "\n",
    "# using the regression formula (y = mx + b) pass the unpacked values into a variable\n",
    "reg_value_SW = south_wind.iloc[:,0]*slope + intercept\n",
    "equation_SW = \"y = \" + str(round(slope,2)) + \"x + \" + str(round(intercept,2))\n",
    "# print(equation_NH)\n",
    "\n",
    "# Plotting\n",
    "plt.plot(south_wind.iloc[:,0],reg_value_SW,color='green', linestyle='dashed')\n",
    "plt.scatter(south_wind['lat'],south_wind['Wind Speed']) # scatter plot\n",
    "plt.annotate(equation_NW,(-55,22),fontsize=15,color=\"red\")\n",
    "\n",
    "# labels for plot\n",
    "plt.title(\"Southern Hemisphere Lat vs. Wind Speed (mph)\")\n",
    "plt.xlabel(\"Latitude\")\n",
    "plt.ylabel(\"Wind Speed (mph)\")\n",
    "print(f\"The r-valued is: {rvalue**2}\")\n",
    "\n",
    "plt.savefig(\"../images/Southern Hemisphere Lat vs. Wind Speed (mph).png\")\n",
    "plt.show()"
   ]
  },
  {
   "cell_type": "markdown",
   "metadata": {},
   "source": [
    "In the above plot, we see that there is little to no relationship between windspeed and change in latitude. R-squared also fortifies this observation"
   ]
  },
  {
   "cell_type": "code",
   "execution_count": null,
   "metadata": {},
   "outputs": [],
   "source": []
  }
 ],
 "metadata": {
  "anaconda-cloud": {},
  "kernel_info": {
   "name": "python3"
  },
  "kernelspec": {
   "display_name": "Python 3",
   "language": "python",
   "name": "python3"
  },
  "language_info": {
   "codemirror_mode": {
    "name": "ipython",
    "version": 3
   },
   "file_extension": ".py",
   "mimetype": "text/x-python",
   "name": "python",
   "nbconvert_exporter": "python",
   "pygments_lexer": "ipython3",
   "version": "3.6.10"
  },
  "latex_envs": {
   "LaTeX_envs_menu_present": true,
   "autoclose": false,
   "autocomplete": true,
   "bibliofile": "biblio.bib",
   "cite_by": "apalike",
   "current_citInitial": 1,
   "eqLabelWithNumbers": true,
   "eqNumInitial": 1,
   "hotkeys": {
    "equation": "Ctrl-E",
    "itemize": "Ctrl-I"
   },
   "labels_anchors": false,
   "latex_user_defs": false,
   "report_style_numbering": false,
   "user_envs_cfg": false
  },
  "nteract": {
   "version": "0.12.3"
  }
 },
 "nbformat": 4,
 "nbformat_minor": 4
}
